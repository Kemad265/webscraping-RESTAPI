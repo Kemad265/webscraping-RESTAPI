{
 "cells": [
  {
   "cell_type": "code",
   "execution_count": 1,
   "metadata": {},
   "outputs": [],
   "source": [
    "import requests\n",
    "import json\n",
    "import sqlite3"
   ]
  },
  {
   "cell_type": "code",
   "execution_count": 2,
   "metadata": {},
   "outputs": [
    {
     "name": "stdout",
     "output_type": "stream",
     "text": [
      "{\"code\":200,\"meta\":{\"pagination\":{\"total\":1986,\"pages\":100,\"page\":1,\"limit\":20}},\"data\":[{\"id\":3551,\"name\":\"Mohammad Islam\",\"email\":\"tomwevp2r82lsg@gmail.com\",\"gender\":\"male\",\"status\":\"active\"},{\"id\":3792,\"name\":\"Cynthia\",\"email\":\"rueben.becker@hotmail.com\",\"gender\":\"female\",\"status\":\"active\"},{\"id\":3559,\"name\":\"Alexxx12345 Smith\",\"email\":\"alexxx12345_smith@gmail.com\",\"gender\":\"female\",\"status\":\"active\"},{\"id\":3794,\"name\":\"Barnabé\",\"email\":\"jacquie.block@gmail.com\",\"gender\":\"male\",\"status\":\"active\"},{\"id\":2025,\"name\":\"Random Ramakrishna Edited\",\"email\":\"random.ramakrishna@15ce.com\",\"gender\":\"male\",\"status\":\"active\"},{\"id\":3576,\"name\":\"MoureDev\",\"email\":\"mouredev@test.com\",\"gender\":\"male\",\"status\":\"active\"},{\"id\":2743,\"name\":\"Testing API by Cypress12\",\"email\":\"20kLIPl@gmail.com\",\"gender\":\"female\",\"status\":\"active\"},{\"id\":2285,\"name\":\"hello\",\"email\":\"hello@test.it\",\"gender\":\"male\",\"status\":\"active\"},{\"id\":2665,\"name\":\"Hiranya Embrantdiri\",\"email\":\"emb2anthedreiri_hiranya@shields.net\",\"gender\":\"female\",\"status\":\"active\"},{\"id\":2668,\"name\":\"Hiranya Embrantdiri\",\"email\":\"emb2xqanthedreiri_hiranya@shields.net\",\"gender\":\"female\",\"status\":\"active\"},{\"id\":2669,\"name\":\"Hiranya Embrantdiri\",\"email\":\"emb2xwqanthedreiri_hiranya@shields.net\",\"gender\":\"female\",\"status\":\"active\"},{\"id\":2670,\"name\":\"Hiranya Embrantdiri\",\"email\":\"emsb2xwqanthedreiri_hiranya@shields.net\",\"gender\":\"female\",\"status\":\"active\"},{\"id\":64,\"name\":\"Dilipkumar\",\"email\":\"dilip2211\",\"gender\":\"male\",\"status\":\"inactive\"},{\"id\":2824,\"name\":\"Bems ID\",\"email\":\"CvKEhHYYWB@noemail.com\",\"gender\":\"male\",\"status\":\"active\"},{\"id\":2292,\"name\":\"testitesttest\",\"email\":\"testttt@test.com\",\"gender\":\"male\",\"status\":\"active\"},{\"id\":2828,\"name\":\"Mohammad Islam\",\"email\":\"tom16m9fgcntss@gmail.com\",\"gender\":\"male\",\"status\":\"active\"},{\"id\":2831,\"name\":\"Bems ID\",\"email\":\"zxxsEBDMJY@noemail.com\",\"gender\":\"male\",\"status\":\"active\"},{\"id\":3191,\"name\":\"Ericksen 5000 Santos\",\"email\":\"erick+50000@gmail.com\",\"gender\":\"male\",\"status\":\"active\"},{\"id\":2300,\"name\":\"Renuka\",\"email\":\"renuka@maveric.com\",\"gender\":\"female\",\"status\":\"active\"},{\"id\":2840,\"name\":\"Bems ID\",\"email\":\"DlJDgyFcAG@noemail.com\",\"gender\":\"male\",\"status\":\"active\"}]}\n"
     ]
    }
   ],
   "source": [
    "url = \"https://gorest.co.in/public-api/users?_format=json&access-token=H4lYmIGLXZkDlpy_w0ZVS5rgcpDXbN7fhRRy\"\n",
    "response = requests.get(url)\n",
    "print(response.text)"
   ]
  },
  {
   "cell_type": "code",
   "execution_count": 3,
   "metadata": {},
   "outputs": [
    {
     "data": {
      "text/plain": [
       "dict"
      ]
     },
     "execution_count": 3,
     "metadata": {},
     "output_type": "execute_result"
    }
   ],
   "source": [
    "json_response = json.loads(response.text)\n",
    "type(json_response)"
   ]
  },
  {
   "cell_type": "code",
   "execution_count": 4,
   "metadata": {},
   "outputs": [],
   "source": [
    "data = json_response['data']"
   ]
  },
  {
   "cell_type": "code",
   "execution_count": 5,
   "metadata": {},
   "outputs": [
    {
     "data": {
      "text/plain": [
       "dict_keys(['code', 'meta', 'data'])"
      ]
     },
     "execution_count": 5,
     "metadata": {},
     "output_type": "execute_result"
    }
   ],
   "source": [
    "json_response.keys()"
   ]
  },
  {
   "cell_type": "code",
   "execution_count": 6,
   "metadata": {},
   "outputs": [
    {
     "data": {
      "text/plain": [
       "200"
      ]
     },
     "execution_count": 6,
     "metadata": {},
     "output_type": "execute_result"
    }
   ],
   "source": [
    "json_response['code']"
   ]
  },
  {
   "cell_type": "code",
   "execution_count": 7,
   "metadata": {},
   "outputs": [
    {
     "data": {
      "text/plain": [
       "{'pagination': {'total': 1986, 'pages': 100, 'page': 1, 'limit': 20}}"
      ]
     },
     "execution_count": 7,
     "metadata": {},
     "output_type": "execute_result"
    }
   ],
   "source": [
    "json_response['meta']"
   ]
  },
  {
   "cell_type": "code",
   "execution_count": 8,
   "metadata": {},
   "outputs": [
    {
     "data": {
      "text/plain": [
       "[{'id': 3551,\n",
       "  'name': 'Mohammad Islam',\n",
       "  'email': 'tomwevp2r82lsg@gmail.com',\n",
       "  'gender': 'male',\n",
       "  'status': 'active'},\n",
       " {'id': 3792,\n",
       "  'name': 'Cynthia',\n",
       "  'email': 'rueben.becker@hotmail.com',\n",
       "  'gender': 'female',\n",
       "  'status': 'active'},\n",
       " {'id': 3559,\n",
       "  'name': 'Alexxx12345 Smith',\n",
       "  'email': 'alexxx12345_smith@gmail.com',\n",
       "  'gender': 'female',\n",
       "  'status': 'active'},\n",
       " {'id': 3794,\n",
       "  'name': 'Barnabé',\n",
       "  'email': 'jacquie.block@gmail.com',\n",
       "  'gender': 'male',\n",
       "  'status': 'active'},\n",
       " {'id': 2025,\n",
       "  'name': 'Random Ramakrishna Edited',\n",
       "  'email': 'random.ramakrishna@15ce.com',\n",
       "  'gender': 'male',\n",
       "  'status': 'active'},\n",
       " {'id': 3576,\n",
       "  'name': 'MoureDev',\n",
       "  'email': 'mouredev@test.com',\n",
       "  'gender': 'male',\n",
       "  'status': 'active'},\n",
       " {'id': 2743,\n",
       "  'name': 'Testing API by Cypress12',\n",
       "  'email': '20kLIPl@gmail.com',\n",
       "  'gender': 'female',\n",
       "  'status': 'active'},\n",
       " {'id': 2285,\n",
       "  'name': 'hello',\n",
       "  'email': 'hello@test.it',\n",
       "  'gender': 'male',\n",
       "  'status': 'active'},\n",
       " {'id': 2665,\n",
       "  'name': 'Hiranya Embrantdiri',\n",
       "  'email': 'emb2anthedreiri_hiranya@shields.net',\n",
       "  'gender': 'female',\n",
       "  'status': 'active'},\n",
       " {'id': 2668,\n",
       "  'name': 'Hiranya Embrantdiri',\n",
       "  'email': 'emb2xqanthedreiri_hiranya@shields.net',\n",
       "  'gender': 'female',\n",
       "  'status': 'active'},\n",
       " {'id': 2669,\n",
       "  'name': 'Hiranya Embrantdiri',\n",
       "  'email': 'emb2xwqanthedreiri_hiranya@shields.net',\n",
       "  'gender': 'female',\n",
       "  'status': 'active'},\n",
       " {'id': 2670,\n",
       "  'name': 'Hiranya Embrantdiri',\n",
       "  'email': 'emsb2xwqanthedreiri_hiranya@shields.net',\n",
       "  'gender': 'female',\n",
       "  'status': 'active'},\n",
       " {'id': 64,\n",
       "  'name': 'Dilipkumar',\n",
       "  'email': 'dilip2211',\n",
       "  'gender': 'male',\n",
       "  'status': 'inactive'},\n",
       " {'id': 2824,\n",
       "  'name': 'Bems ID',\n",
       "  'email': 'CvKEhHYYWB@noemail.com',\n",
       "  'gender': 'male',\n",
       "  'status': 'active'},\n",
       " {'id': 2292,\n",
       "  'name': 'testitesttest',\n",
       "  'email': 'testttt@test.com',\n",
       "  'gender': 'male',\n",
       "  'status': 'active'},\n",
       " {'id': 2828,\n",
       "  'name': 'Mohammad Islam',\n",
       "  'email': 'tom16m9fgcntss@gmail.com',\n",
       "  'gender': 'male',\n",
       "  'status': 'active'},\n",
       " {'id': 2831,\n",
       "  'name': 'Bems ID',\n",
       "  'email': 'zxxsEBDMJY@noemail.com',\n",
       "  'gender': 'male',\n",
       "  'status': 'active'},\n",
       " {'id': 3191,\n",
       "  'name': 'Ericksen 5000 Santos',\n",
       "  'email': 'erick+50000@gmail.com',\n",
       "  'gender': 'male',\n",
       "  'status': 'active'},\n",
       " {'id': 2300,\n",
       "  'name': 'Renuka',\n",
       "  'email': 'renuka@maveric.com',\n",
       "  'gender': 'female',\n",
       "  'status': 'active'},\n",
       " {'id': 2840,\n",
       "  'name': 'Bems ID',\n",
       "  'email': 'DlJDgyFcAG@noemail.com',\n",
       "  'gender': 'male',\n",
       "  'status': 'active'}]"
      ]
     },
     "execution_count": 8,
     "metadata": {},
     "output_type": "execute_result"
    }
   ],
   "source": [
    "json_response['data']"
   ]
  },
  {
   "cell_type": "code",
   "execution_count": 9,
   "metadata": {},
   "outputs": [
    {
     "name": "stdout",
     "output_type": "stream",
     "text": [
      "3551 Mohammad Islam tomwevp2r82lsg@gmail.com male active\n",
      "---------------------------\n",
      "3792 Cynthia rueben.becker@hotmail.com female active\n",
      "---------------------------\n",
      "3559 Alexxx12345 Smith alexxx12345_smith@gmail.com female active\n",
      "---------------------------\n",
      "3794 Barnabé jacquie.block@gmail.com male active\n",
      "---------------------------\n",
      "2025 Random Ramakrishna Edited random.ramakrishna@15ce.com male active\n",
      "---------------------------\n",
      "3576 MoureDev mouredev@test.com male active\n",
      "---------------------------\n",
      "2743 Testing API by Cypress12 20kLIPl@gmail.com female active\n",
      "---------------------------\n",
      "2285 hello hello@test.it male active\n",
      "---------------------------\n",
      "2665 Hiranya Embrantdiri emb2anthedreiri_hiranya@shields.net female active\n",
      "---------------------------\n",
      "2668 Hiranya Embrantdiri emb2xqanthedreiri_hiranya@shields.net female active\n",
      "---------------------------\n",
      "2669 Hiranya Embrantdiri emb2xwqanthedreiri_hiranya@shields.net female active\n",
      "---------------------------\n",
      "2670 Hiranya Embrantdiri emsb2xwqanthedreiri_hiranya@shields.net female active\n",
      "---------------------------\n",
      "64 Dilipkumar dilip2211 male inactive\n",
      "---------------------------\n",
      "2824 Bems ID CvKEhHYYWB@noemail.com male active\n",
      "---------------------------\n",
      "2292 testitesttest testttt@test.com male active\n",
      "---------------------------\n",
      "2828 Mohammad Islam tom16m9fgcntss@gmail.com male active\n",
      "---------------------------\n",
      "2831 Bems ID zxxsEBDMJY@noemail.com male active\n",
      "---------------------------\n",
      "3191 Ericksen 5000 Santos erick+50000@gmail.com male active\n",
      "---------------------------\n",
      "2300 Renuka renuka@maveric.com female active\n",
      "---------------------------\n",
      "2840 Bems ID DlJDgyFcAG@noemail.com male active\n",
      "---------------------------\n"
     ]
    }
   ],
   "source": [
    "for i in data:\n",
    "    ID = i['id']\n",
    "    name = i['name']\n",
    "    email = i['email']\n",
    "    gender = i['gender']\n",
    "    status = i['status']\n",
    "    print(ID,name,email,gender,status)\n",
    "    print('---------------------------')"
   ]
  },
  {
   "cell_type": "code",
   "execution_count": 10,
   "metadata": {},
   "outputs": [],
   "source": [
    "connection=sqlite3.connect('data.db')\n",
    "sql=\"INSERT INTO data (id,name,email,gender,status) VALUES (?,?,?,?,?) \"\n",
    "for i in data:\n",
    "    ID = i['id']\n",
    "    name = i['name']\n",
    "    email = i['email']\n",
    "    gender = i['gender']\n",
    "    status = i['status']\n",
    "    user = [ID,name,email,gender,status]\n",
    "    connection.execute(sql,user)\n",
    "    connection.commit()\n",
    "connection.close()"
   ]
  },
  {
   "cell_type": "markdown",
   "metadata": {},
   "source": [
    "## get people with gmail in their email "
   ]
  },
  {
   "cell_type": "code",
   "execution_count": 14,
   "metadata": {},
   "outputs": [
    {
     "data": {
      "text/plain": [
       "[(2743, 'Testing API by Cypress12', '20kLIPl@gmail.com', 'female', 'active'),\n",
       " (2828, 'Mohammad Islam', 'tom16m9fgcntss@gmail.com', 'male', 'active'),\n",
       " (3191, 'Ericksen 5000 Santos', 'erick+50000@gmail.com', 'male', 'active'),\n",
       " (3551, 'Mohammad Islam', 'tomwevp2r82lsg@gmail.com', 'male', 'active'),\n",
       " (3559,\n",
       "  'Alexxx12345 Smith',\n",
       "  'alexxx12345_smith@gmail.com',\n",
       "  'female',\n",
       "  'active'),\n",
       " (3794, 'Barnabé', 'jacquie.block@gmail.com', 'male', 'active')]"
      ]
     },
     "execution_count": 14,
     "metadata": {},
     "output_type": "execute_result"
    }
   ],
   "source": [
    "connection=sqlite3.connect('data.db')\n",
    "sql = (\"SELECT * FROM data WHERE email LIKE ?\")\n",
    "result=connection.execute(sql,['%gmail%']).fetchall()\n",
    "result"
   ]
  },
  {
   "cell_type": "markdown",
   "metadata": {},
   "source": [
    "## get all male users"
   ]
  },
  {
   "cell_type": "code",
   "execution_count": 17,
   "metadata": {
    "scrolled": false
   },
   "outputs": [
    {
     "data": {
      "text/plain": [
       "[(64, 'Dilipkumar', 'dilip2211', 'male', 'inactive'),\n",
       " (2025,\n",
       "  'Random Ramakrishna Edited',\n",
       "  'random.ramakrishna@15ce.com',\n",
       "  'male',\n",
       "  'active'),\n",
       " (2285, 'hello', 'hello@test.it', 'male', 'active'),\n",
       " (2292, 'testitesttest', 'testttt@test.com', 'male', 'active'),\n",
       " (2824, 'Bems ID', 'CvKEhHYYWB@noemail.com', 'male', 'active'),\n",
       " (2828, 'Mohammad Islam', 'tom16m9fgcntss@gmail.com', 'male', 'active'),\n",
       " (2831, 'Bems ID', 'zxxsEBDMJY@noemail.com', 'male', 'active'),\n",
       " (2840, 'Bems ID', 'DlJDgyFcAG@noemail.com', 'male', 'active'),\n",
       " (3191, 'Ericksen 5000 Santos', 'erick+50000@gmail.com', 'male', 'active'),\n",
       " (3551, 'Mohammad Islam', 'tomwevp2r82lsg@gmail.com', 'male', 'active'),\n",
       " (3576, 'MoureDev', 'mouredev@test.com', 'male', 'active'),\n",
       " (3794, 'Barnabé', 'jacquie.block@gmail.com', 'male', 'active')]"
      ]
     },
     "execution_count": 17,
     "metadata": {},
     "output_type": "execute_result"
    }
   ],
   "source": [
    "sql = (\"SELECT * FROM data WHERE gender = ?\")\n",
    "result=connection.execute(sql,['male']).fetchall()\n",
    "result"
   ]
  },
  {
   "cell_type": "code",
   "execution_count": 20,
   "metadata": {},
   "outputs": [],
   "source": [
    "connection.close()"
   ]
  },
  {
   "cell_type": "code",
   "execution_count": 18,
   "metadata": {},
   "outputs": [],
   "source": [
    "import pandas as pd "
   ]
  },
  {
   "cell_type": "code",
   "execution_count": 19,
   "metadata": {},
   "outputs": [
    {
     "data": {
      "text/html": [
       "<div>\n",
       "<style scoped>\n",
       "    .dataframe tbody tr th:only-of-type {\n",
       "        vertical-align: middle;\n",
       "    }\n",
       "\n",
       "    .dataframe tbody tr th {\n",
       "        vertical-align: top;\n",
       "    }\n",
       "\n",
       "    .dataframe thead th {\n",
       "        text-align: right;\n",
       "    }\n",
       "</style>\n",
       "<table border=\"1\" class=\"dataframe\">\n",
       "  <thead>\n",
       "    <tr style=\"text-align: right;\">\n",
       "      <th></th>\n",
       "      <th>id</th>\n",
       "      <th>name</th>\n",
       "      <th>email</th>\n",
       "      <th>gender</th>\n",
       "      <th>status</th>\n",
       "    </tr>\n",
       "  </thead>\n",
       "  <tbody>\n",
       "    <tr>\n",
       "      <th>0</th>\n",
       "      <td>64</td>\n",
       "      <td>Dilipkumar</td>\n",
       "      <td>dilip2211</td>\n",
       "      <td>male</td>\n",
       "      <td>inactive</td>\n",
       "    </tr>\n",
       "    <tr>\n",
       "      <th>1</th>\n",
       "      <td>2025</td>\n",
       "      <td>Random Ramakrishna Edited</td>\n",
       "      <td>random.ramakrishna@15ce.com</td>\n",
       "      <td>male</td>\n",
       "      <td>active</td>\n",
       "    </tr>\n",
       "    <tr>\n",
       "      <th>2</th>\n",
       "      <td>2285</td>\n",
       "      <td>hello</td>\n",
       "      <td>hello@test.it</td>\n",
       "      <td>male</td>\n",
       "      <td>active</td>\n",
       "    </tr>\n",
       "    <tr>\n",
       "      <th>3</th>\n",
       "      <td>2292</td>\n",
       "      <td>testitesttest</td>\n",
       "      <td>testttt@test.com</td>\n",
       "      <td>male</td>\n",
       "      <td>active</td>\n",
       "    </tr>\n",
       "    <tr>\n",
       "      <th>4</th>\n",
       "      <td>2300</td>\n",
       "      <td>Renuka</td>\n",
       "      <td>renuka@maveric.com</td>\n",
       "      <td>female</td>\n",
       "      <td>active</td>\n",
       "    </tr>\n",
       "    <tr>\n",
       "      <th>5</th>\n",
       "      <td>2665</td>\n",
       "      <td>Hiranya Embrantdiri</td>\n",
       "      <td>emb2anthedreiri_hiranya@shields.net</td>\n",
       "      <td>female</td>\n",
       "      <td>active</td>\n",
       "    </tr>\n",
       "    <tr>\n",
       "      <th>6</th>\n",
       "      <td>2668</td>\n",
       "      <td>Hiranya Embrantdiri</td>\n",
       "      <td>emb2xqanthedreiri_hiranya@shields.net</td>\n",
       "      <td>female</td>\n",
       "      <td>active</td>\n",
       "    </tr>\n",
       "    <tr>\n",
       "      <th>7</th>\n",
       "      <td>2669</td>\n",
       "      <td>Hiranya Embrantdiri</td>\n",
       "      <td>emb2xwqanthedreiri_hiranya@shields.net</td>\n",
       "      <td>female</td>\n",
       "      <td>active</td>\n",
       "    </tr>\n",
       "    <tr>\n",
       "      <th>8</th>\n",
       "      <td>2670</td>\n",
       "      <td>Hiranya Embrantdiri</td>\n",
       "      <td>emsb2xwqanthedreiri_hiranya@shields.net</td>\n",
       "      <td>female</td>\n",
       "      <td>active</td>\n",
       "    </tr>\n",
       "    <tr>\n",
       "      <th>9</th>\n",
       "      <td>2743</td>\n",
       "      <td>Testing API by Cypress12</td>\n",
       "      <td>20kLIPl@gmail.com</td>\n",
       "      <td>female</td>\n",
       "      <td>active</td>\n",
       "    </tr>\n",
       "    <tr>\n",
       "      <th>10</th>\n",
       "      <td>2824</td>\n",
       "      <td>Bems ID</td>\n",
       "      <td>CvKEhHYYWB@noemail.com</td>\n",
       "      <td>male</td>\n",
       "      <td>active</td>\n",
       "    </tr>\n",
       "    <tr>\n",
       "      <th>11</th>\n",
       "      <td>2828</td>\n",
       "      <td>Mohammad Islam</td>\n",
       "      <td>tom16m9fgcntss@gmail.com</td>\n",
       "      <td>male</td>\n",
       "      <td>active</td>\n",
       "    </tr>\n",
       "    <tr>\n",
       "      <th>12</th>\n",
       "      <td>2831</td>\n",
       "      <td>Bems ID</td>\n",
       "      <td>zxxsEBDMJY@noemail.com</td>\n",
       "      <td>male</td>\n",
       "      <td>active</td>\n",
       "    </tr>\n",
       "    <tr>\n",
       "      <th>13</th>\n",
       "      <td>2840</td>\n",
       "      <td>Bems ID</td>\n",
       "      <td>DlJDgyFcAG@noemail.com</td>\n",
       "      <td>male</td>\n",
       "      <td>active</td>\n",
       "    </tr>\n",
       "    <tr>\n",
       "      <th>14</th>\n",
       "      <td>3191</td>\n",
       "      <td>Ericksen 5000 Santos</td>\n",
       "      <td>erick+50000@gmail.com</td>\n",
       "      <td>male</td>\n",
       "      <td>active</td>\n",
       "    </tr>\n",
       "    <tr>\n",
       "      <th>15</th>\n",
       "      <td>3551</td>\n",
       "      <td>Mohammad Islam</td>\n",
       "      <td>tomwevp2r82lsg@gmail.com</td>\n",
       "      <td>male</td>\n",
       "      <td>active</td>\n",
       "    </tr>\n",
       "    <tr>\n",
       "      <th>16</th>\n",
       "      <td>3559</td>\n",
       "      <td>Alexxx12345 Smith</td>\n",
       "      <td>alexxx12345_smith@gmail.com</td>\n",
       "      <td>female</td>\n",
       "      <td>active</td>\n",
       "    </tr>\n",
       "    <tr>\n",
       "      <th>17</th>\n",
       "      <td>3576</td>\n",
       "      <td>MoureDev</td>\n",
       "      <td>mouredev@test.com</td>\n",
       "      <td>male</td>\n",
       "      <td>active</td>\n",
       "    </tr>\n",
       "    <tr>\n",
       "      <th>18</th>\n",
       "      <td>3792</td>\n",
       "      <td>Cynthia</td>\n",
       "      <td>rueben.becker@hotmail.com</td>\n",
       "      <td>female</td>\n",
       "      <td>active</td>\n",
       "    </tr>\n",
       "    <tr>\n",
       "      <th>19</th>\n",
       "      <td>3794</td>\n",
       "      <td>Barnabé</td>\n",
       "      <td>jacquie.block@gmail.com</td>\n",
       "      <td>male</td>\n",
       "      <td>active</td>\n",
       "    </tr>\n",
       "  </tbody>\n",
       "</table>\n",
       "</div>"
      ],
      "text/plain": [
       "      id                       name                                    email  \\\n",
       "0     64                 Dilipkumar                                dilip2211   \n",
       "1   2025  Random Ramakrishna Edited              random.ramakrishna@15ce.com   \n",
       "2   2285                      hello                            hello@test.it   \n",
       "3   2292              testitesttest                         testttt@test.com   \n",
       "4   2300                     Renuka                       renuka@maveric.com   \n",
       "5   2665        Hiranya Embrantdiri      emb2anthedreiri_hiranya@shields.net   \n",
       "6   2668        Hiranya Embrantdiri    emb2xqanthedreiri_hiranya@shields.net   \n",
       "7   2669        Hiranya Embrantdiri   emb2xwqanthedreiri_hiranya@shields.net   \n",
       "8   2670        Hiranya Embrantdiri  emsb2xwqanthedreiri_hiranya@shields.net   \n",
       "9   2743   Testing API by Cypress12                        20kLIPl@gmail.com   \n",
       "10  2824                    Bems ID                   CvKEhHYYWB@noemail.com   \n",
       "11  2828             Mohammad Islam                 tom16m9fgcntss@gmail.com   \n",
       "12  2831                    Bems ID                   zxxsEBDMJY@noemail.com   \n",
       "13  2840                    Bems ID                   DlJDgyFcAG@noemail.com   \n",
       "14  3191       Ericksen 5000 Santos                    erick+50000@gmail.com   \n",
       "15  3551             Mohammad Islam                 tomwevp2r82lsg@gmail.com   \n",
       "16  3559          Alexxx12345 Smith              alexxx12345_smith@gmail.com   \n",
       "17  3576                   MoureDev                        mouredev@test.com   \n",
       "18  3792                    Cynthia                rueben.becker@hotmail.com   \n",
       "19  3794                    Barnabé                  jacquie.block@gmail.com   \n",
       "\n",
       "    gender    status  \n",
       "0     male  inactive  \n",
       "1     male    active  \n",
       "2     male    active  \n",
       "3     male    active  \n",
       "4   female    active  \n",
       "5   female    active  \n",
       "6   female    active  \n",
       "7   female    active  \n",
       "8   female    active  \n",
       "9   female    active  \n",
       "10    male    active  \n",
       "11    male    active  \n",
       "12    male    active  \n",
       "13    male    active  \n",
       "14    male    active  \n",
       "15    male    active  \n",
       "16  female    active  \n",
       "17    male    active  \n",
       "18  female    active  \n",
       "19    male    active  "
      ]
     },
     "execution_count": 19,
     "metadata": {},
     "output_type": "execute_result"
    }
   ],
   "source": [
    "df = pd.read_csv('data.csv')\n",
    "df"
   ]
  },
  {
   "cell_type": "code",
   "execution_count": 21,
   "metadata": {},
   "outputs": [
    {
     "name": "stdout",
     "output_type": "stream",
     "text": [
      "<class 'pandas.core.frame.DataFrame'>\n",
      "RangeIndex: 20 entries, 0 to 19\n",
      "Data columns (total 5 columns):\n",
      " #   Column  Non-Null Count  Dtype \n",
      "---  ------  --------------  ----- \n",
      " 0   id      20 non-null     int64 \n",
      " 1   name    20 non-null     object\n",
      " 2   email   20 non-null     object\n",
      " 3   gender  20 non-null     object\n",
      " 4   status  20 non-null     object\n",
      "dtypes: int64(1), object(4)\n",
      "memory usage: 928.0+ bytes\n"
     ]
    }
   ],
   "source": [
    "df.info()"
   ]
  },
  {
   "cell_type": "code",
   "execution_count": 22,
   "metadata": {},
   "outputs": [
    {
     "data": {
      "text/html": [
       "<div>\n",
       "<style scoped>\n",
       "    .dataframe tbody tr th:only-of-type {\n",
       "        vertical-align: middle;\n",
       "    }\n",
       "\n",
       "    .dataframe tbody tr th {\n",
       "        vertical-align: top;\n",
       "    }\n",
       "\n",
       "    .dataframe thead th {\n",
       "        text-align: right;\n",
       "    }\n",
       "</style>\n",
       "<table border=\"1\" class=\"dataframe\">\n",
       "  <thead>\n",
       "    <tr style=\"text-align: right;\">\n",
       "      <th></th>\n",
       "      <th>id</th>\n",
       "    </tr>\n",
       "  </thead>\n",
       "  <tbody>\n",
       "    <tr>\n",
       "      <th>count</th>\n",
       "      <td>20.000000</td>\n",
       "    </tr>\n",
       "    <tr>\n",
       "      <th>mean</th>\n",
       "      <td>2758.350000</td>\n",
       "    </tr>\n",
       "    <tr>\n",
       "      <th>std</th>\n",
       "      <td>819.789272</td>\n",
       "    </tr>\n",
       "    <tr>\n",
       "      <th>min</th>\n",
       "      <td>64.000000</td>\n",
       "    </tr>\n",
       "    <tr>\n",
       "      <th>25%</th>\n",
       "      <td>2573.750000</td>\n",
       "    </tr>\n",
       "    <tr>\n",
       "      <th>50%</th>\n",
       "      <td>2783.500000</td>\n",
       "    </tr>\n",
       "    <tr>\n",
       "      <th>75%</th>\n",
       "      <td>3281.000000</td>\n",
       "    </tr>\n",
       "    <tr>\n",
       "      <th>max</th>\n",
       "      <td>3794.000000</td>\n",
       "    </tr>\n",
       "  </tbody>\n",
       "</table>\n",
       "</div>"
      ],
      "text/plain": [
       "                id\n",
       "count    20.000000\n",
       "mean   2758.350000\n",
       "std     819.789272\n",
       "min      64.000000\n",
       "25%    2573.750000\n",
       "50%    2783.500000\n",
       "75%    3281.000000\n",
       "max    3794.000000"
      ]
     },
     "execution_count": 22,
     "metadata": {},
     "output_type": "execute_result"
    }
   ],
   "source": [
    "df.describe()"
   ]
  },
  {
   "cell_type": "code",
   "execution_count": 24,
   "metadata": {},
   "outputs": [
    {
     "data": {
      "text/plain": [
       "active      19\n",
       "inactive     1\n",
       "Name: status, dtype: int64"
      ]
     },
     "execution_count": 24,
     "metadata": {},
     "output_type": "execute_result"
    }
   ],
   "source": [
    "df[\"status\"].value_counts()\n"
   ]
  },
  {
   "cell_type": "code",
   "execution_count": null,
   "metadata": {},
   "outputs": [],
   "source": []
  }
 ],
 "metadata": {
  "kernelspec": {
   "display_name": "Python 3",
   "language": "python",
   "name": "python3"
  },
  "language_info": {
   "codemirror_mode": {
    "name": "ipython",
    "version": 3
   },
   "file_extension": ".py",
   "mimetype": "text/x-python",
   "name": "python",
   "nbconvert_exporter": "python",
   "pygments_lexer": "ipython3",
   "version": "3.8.5"
  }
 },
 "nbformat": 4,
 "nbformat_minor": 4
}
